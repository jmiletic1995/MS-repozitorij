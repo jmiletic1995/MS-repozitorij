{
 "cells": [
  {
   "cell_type": "markdown",
   "metadata": {},
   "source": [
    "# Obrada prirodnog jezika"
   ]
  },
  {
   "cell_type": "markdown",
   "metadata": {},
   "source": [
    "## Uvod"
   ]
  },
  {
   "cell_type": "markdown",
   "metadata": {},
   "source": [
    "Obrada prirodnog jezika je područje kojem se bavi područje računarstva i umjetne inteligencije, a ono obuhvaća problematiku komunikacije između računala i prirodnog (ljudskog) jezika, tj. kako omogućiti da računala daju što je moguće informativnije rezultate iz obrade podataka prirodnog jezika. <br> Razumijevanje i računalno prevođenje prirodnih jezika se najviše očituje u tome što mnoge riječi imaju višestruko značenje pa njihovo značenje ovisi o kontekstu u kojem se nalaze. Razumijevanje konteksta se pokazuje jednim od najvećih problema s kojim se susrećemo u obradi prirodnog jezika. <br> Uočavanje učestalog ponavljanja nekih riječi unutar teksta nam pomaže da taj tekst svrstamo pod neku kategoriju te onda lakše odredimo kontekst tog teksta pa samim time i značenje istog teksta. <br> Ovdje ćemo obraditi temu klasifikacije teksta, tj. riječi unutar njega."
   ]
  },
  {
   "cell_type": "markdown",
   "metadata": {},
   "source": [
    "### NLTK biblioteka"
   ]
  },
  {
   "cell_type": "markdown",
   "metadata": {},
   "source": [
    "Pri obradi ove teme koristit ćemo NLTK biblioteku koja u sebi ima razne značajke i funkcije koja nam olakšava obradu prirodnog jezika."
   ]
  },
  {
   "cell_type": "code",
   "execution_count": 1,
   "metadata": {
    "collapsed": false
   },
   "outputs": [
    {
     "name": "stdout",
     "output_type": "stream",
     "text": [
      "showing info http://www.nltk.org/nltk_data/\n"
     ]
    },
    {
     "data": {
      "text/plain": [
       "True"
      ]
     },
     "execution_count": 1,
     "metadata": {},
     "output_type": "execute_result"
    }
   ],
   "source": [
    "import nltk\n",
    "from nltk import *\n",
    "nltk.download()"
   ]
  },
  {
   "cell_type": "markdown",
   "metadata": {},
   "source": [
    "#### NLTK.book\n",
    "Modul nltk.book sadržava 9 djela iz različitih kategorija zbog raznolikosti skupa tekstova kako bi obrada bila što kvalitetnija."
   ]
  },
  {
   "cell_type": "code",
   "execution_count": 2,
   "metadata": {
    "collapsed": false,
    "scrolled": true
   },
   "outputs": [
    {
     "name": "stdout",
     "output_type": "stream",
     "text": [
      "*** Introductory Examples for the NLTK Book ***\n",
      "Loading text1, ..., text9 and sent1, ..., sent9\n",
      "Type the name of the text or sentence to view it.\n",
      "Type: 'texts()' or 'sents()' to list the materials.\n",
      "text1: Moby Dick by Herman Melville 1851\n",
      "text2: Sense and Sensibility by Jane Austen 1811\n",
      "text3: The Book of Genesis\n",
      "text4: Inaugural Address Corpus\n",
      "text5: Chat Corpus\n",
      "text6: Monty Python and the Holy Grail\n",
      "text7: Wall Street Journal\n",
      "text8: Personals Corpus\n",
      "text9: The Man Who Was Thursday by G . K . Chesterton 1908\n"
     ]
    }
   ],
   "source": [
    "from nltk.book import *"
   ]
  },
  {
   "cell_type": "markdown",
   "metadata": {},
   "source": [
    "Primjerice, u djelu Moby Dick, autora Marka Twaina, možemo vidjeti učestalost ponavljanja nekih riječi unutar djela te naći riječi koje imaju slično značenje (nalaze se u istom kontekstu)."
   ]
  },
  {
   "cell_type": "code",
   "execution_count": 3,
   "metadata": {
    "collapsed": false
   },
   "outputs": [
    {
     "name": "stdout",
     "output_type": "stream",
     "text": [
      "Displaying 19 of 19 matches:\n",
      "azed , and wondered what monstrous cannibal and savage could ever have gone a \n",
      "e holy Sabbath , engaged in such a cannibal business as selling the heads of d\n",
      "t was extinguished , and this wild cannibal , tomahawk between his teeth , spr\n",
      " , I kill - e !\" again growled the cannibal , while his horrid flourishings of\n",
      "hat that infernal harpooneer was a cannibal ?\" \" I thought ye know ' d it ;-- \n",
      "the whole a clean , comely looking cannibal . What ' s all this fuss I have be\n",
      "of him . Better sleep with a sober cannibal than a drunken Christian . \" Landl\n",
      "ge house in the broad day , with a cannibal and a tomahawk ! \" Queequeg !-- in\n",
      "h sadly vitiated , I fear , by the cannibal propensity he nourished in his unt\n",
      "tain , \" I ' ll kill - e YOU , you cannibal , if you try any more of your tric\n",
      " . She was a thing of trophies . A cannibal of a craft , tricking herself fort\n",
      " had not suspected my friend was a cannibal , and furthermore announcing that \n",
      "that sight take a tooth out of the cannibal ' s jaw ? Cannibals ? who is not a\n",
      "' s jaw ? Cannibals ? who is not a cannibal ? I tell you it will be more toler\n",
      "to kindle a fire in this shivering cannibal ? Ginger !-- what the devil is gin\n",
      "the Zodiac himself . What says the Cannibal ? As I live he ' s comparing notes\n",
      " they had been lost by some little cannibal urchins , the priest ' s children \n",
      "tiered sharks , and thy kidnapping cannibal ways . Let faith oust fact ; let f\n",
      "nd his mother tells him of me , of cannibal old me ; how I am abroad upon the \n"
     ]
    }
   ],
   "source": [
    "text1.concordance(\"cannibal\")"
   ]
  },
  {
   "cell_type": "code",
   "execution_count": 4,
   "metadata": {
    "collapsed": false
   },
   "outputs": [
    {
     "name": "stdout",
     "output_type": "stream",
     "text": [
      "whale king whaleman ship pilot captain child vessel cry sea boat mate\n",
      "touch brain whalemen warp squall harpooneer nantucketer parsee\n"
     ]
    }
   ],
   "source": [
    "text1.similar(\"cannibal\")"
   ]
  },
  {
   "cell_type": "code",
   "execution_count": 5,
   "metadata": {
    "collapsed": false
   },
   "outputs": [
    {
     "data": {
      "image/png": "[encoded data removed]",
      "text/plain": [
       "<matplotlib.figure.Figure at 0x7fc5aeb6ac10>"
      ]
     },
     "metadata": {},
     "output_type": "display_data"
    }
   ],
   "source": [
    "%matplotlib inline\n",
    "fdist1 = FreqDist(text1)\n",
    "fdist1.plot(20)"
   ]
  },
  {
   "cell_type": "markdown",
   "metadata": {},
   "source": [
    "Gledajući graf najčešćih riječi u djelu Moby Dick, dolazimo do zaključka da najčešće riječi u djelima same po sebi nemaju neko značenje, te bi takvu pretragu trebali suziti, npr. samo na imenice, kako bi nam graf mogao odati neke informacije o djelu i kontekstu riječi unutar samog djela."
   ]
  },
  {
   "cell_type": "code",
   "execution_count": 6,
   "metadata": {
    "collapsed": false
   },
   "outputs": [
    {
     "data": {
      "image/png": "[encoded data removed]",
      "text/plain": [
       "<matplotlib.figure.Figure at 0x7fc5d9ee4d50>"
      ]
     },
     "metadata": {},
     "output_type": "display_data"
    }
   ],
   "source": [
    "text4.dispersion_plot([\"citizens\", \"democracy\", \"freedom\", \"duties\", \"America\"])"
   ]
  },
  {
   "cell_type": "markdown",
   "metadata": {},
   "source": [
    "Funkcijom dispersion_plot() možemo vidjeti gdje se određene riječi pojavljuju u danom djelu. Primjerice u skupu obraćanja javnosti američkih predsjednika od 1789-2009, zvane Inaugural Address Corpus, možemo vidjeti kako se u zadnje vrijeme naglasak američkih predsjednika stavlja na \"Ameriku\", tj. na njihovu državu i posebnost njihove države u međunarodnim okvirima."
   ]
  },
  {
   "cell_type": "markdown",
   "metadata": {},
   "source": [
    "## Statistička obrada prirodnog jezika\n",
    "Statistička obrada prirodnog jezika se bavi obradom prirodnog jezika pomoću statističkih metoda, strojnog učenja, itd. Razlikuje se od tradicionalne obrade prirodnog jezika u tome što ovdje jezikoslovci ne stvaraju model kako bi opisali neki jezikoslovnu pojavu, nego se umjesto toga model (polu)automatski izgradi iz jezično označenih tekstova. <br> Obradit ćemo par primjera koji će korisiti različite načine klasifikacije podataka pomoću nadziranog strojnog učenja."
   ]
  },
  {
   "cell_type": "code",
   "execution_count": 22,
   "metadata": {
    "collapsed": true
   },
   "outputs": [],
   "source": [
    "from __future__ import division\n",
    "import nltk\n",
    "import matplotlib.pyplot as plt\n",
    "from nltk.classify import apply_features\n",
    "import random\n",
    "import math"
   ]
  },
  {
   "cell_type": "markdown",
   "metadata": {},
   "source": [
    "Ovo će nam biti potrebni moduli koje ćemo koristiti u našim primjerima."
   ]
  },
  {
   "cell_type": "markdown",
   "metadata": {
    "collapsed": false
   },
   "source": [
    "### Prepoznavanje spola"
   ]
  },
  {
   "cell_type": "markdown",
   "metadata": {},
   "source": [
    "Muška i ženska imena imaju imaju različite osobitosti. Jedna od tih je npr. zadnje slovo u imenu. Imena koja završavaju na 'o' su muška imena, dok imena koja završavaju na 'a' su često ženska imena. <br> Ovdje ćemo izgraditi model koji će učiti na temelju prvog i zadnjeg slova u imenima (koja su označena) te zadnja dva slova u imenu, s obzirom da ona isto tako jako određuju rod kojem pripada ime, te ćemo ga testirati na nekim primjerima."
   ]
  },
  {
   "cell_type": "code",
   "execution_count": 32,
   "metadata": {
    "collapsed": false
   },
   "outputs": [],
   "source": [
    "def _gender_features(word):\n",
    "  features = {}\n",
    "  # started with 1 feature\n",
    "  features[\"last_letter\"] = word[-1].lower()\n",
    "  # added some more\n",
    "  features[\"first_letter\"] = word[0].lower()\n",
    "  for letter in \"abcdefghijklmnopqrstuvwxyz\":\n",
    "    features[\"count(%s)\" % letter] = word.lower().count(letter)\n",
    "    features[\"has(%s)\" % letter] = (letter in word.lower())\n",
    "  # result of error analysis:\n",
    "  # names ending in -yn are mostly female, and names ending\n",
    "  # in -ch ar mostly male, so add 2 more features\n",
    "  features[\"suffix2\"] = word[-2:]\n",
    "  return features\n",
    "\n",
    "def naive_bayes_gender_classifier():\n",
    "  from nltk.corpus import names\n",
    "  names = ([(name, \"male\") for name in names.words(\"male.txt\")] +\n",
    "           [(name, \"female\") for name in names.words(\"female.txt\")])\n",
    "  random.shuffle(names)\n",
    "#  featuresets = [(_gender_features(n), g) for (n,g) in names]\n",
    "#  train_set, test_set = featuresets[500:], featuresets[:500]\n",
    "#  advisable to stream the sets in for large data set.\n",
    "  train_set = apply_features(_gender_features, names[500:])\n",
    "  test_set = apply_features(_gender_features, names[:500])\n",
    "  classifier = nltk.NaiveBayesClassifier.train(train_set)\n",
    "  print (\"Neo is\", classifier.classify(_gender_features(\"Neo\")))\n",
    "  print (\"Trinity is\", classifier.classify(_gender_features(\"Trinity\")))\n",
    "  # calculate the accuracy of the classifier\n",
    "  print (nltk.classify.accuracy(classifier, test_set))\n",
    "  classifier.show_most_informative_features(5)\n",
    "\n",
    "def error_analysis():\n",
    "  from nltk.corpus import names\n",
    "  names = ([(name, \"male\") for name in names.words(\"male.txt\")] +\n",
    "           [(name, \"female\") for name in names.words(\"female.txt\")])\n",
    "  random.shuffle(names)\n",
    "  test_names, devtest_names, train_names = \\\n",
    "    names[:500], names[500:1500], names[1500:]\n",
    "  train_set = [(_gender_features(n), g) for (n,g) in train_names]\n",
    "  devtest_set = [(_gender_features(n), g) for (n,g) in devtest_names]\n",
    "  test_set = [(_gender_features(n), g) for (n,g) in test_names]\n",
    "  classifier = nltk.NaiveBayesClassifier.train(train_set)\n",
    "  print (nltk.classify.accuracy(classifier, devtest_set))\n",
    "  errors = []\n",
    "  for (name, tag) in devtest_names:\n",
    "    guess = classifier.classify(_gender_features(name))\n",
    "    if guess != tag:\n",
    "      errors.append((tag, guess, name))\n",
    "  m = 0\n",
    "  f = 0\n",
    "  for (tag, guess, name) in sorted(errors):\n",
    "    if(guess == \"female\"): f += 1\n",
    "    if(guess == \"male\"): m += 1\n",
    "    print (\"correct=%s, guess=%s, name=%s\" % (tag, guess, name))\n",
    "  x_val = [0, 1]\n",
    "  y_val = [m, f]\n",
    "  plt.scatter(x_val,y_val)\n",
    "  plt.show()"
   ]
  },
  {
   "cell_type": "code",
   "execution_count": 33,
   "metadata": {
    "collapsed": false
   },
   "outputs": [
    {
     "name": "stdout",
     "output_type": "stream",
     "text": [
      "Neo is male\n",
      "Trinity is female\n",
      "0.782\n",
      "Most Informative Features\n",
      "                 suffix2 = 'na'           female : male   =    168.8 : 1.0\n",
      "                 suffix2 = 'ia'           female : male   =     56.9 : 1.0\n",
      "             last_letter = 'a'            female : male   =     37.4 : 1.0\n",
      "                 suffix2 = 'sa'           female : male   =     35.6 : 1.0\n",
      "             last_letter = 'k'              male : female =     32.1 : 1.0\n",
      "0.798\n",
      "correct=female, guess=male, name=Adriaens\n",
      "correct=female, guess=male, name=Alyson\n",
      "correct=female, guess=male, name=Amber\n",
      "correct=female, guess=male, name=Audrey\n",
      "correct=female, guess=male, name=Audy\n",
      "correct=female, guess=male, name=Beau\n",
      "correct=female, guess=male, name=Berthe\n",
      "correct=female, guess=male, name=Betsey\n",
      "correct=female, guess=male, name=Bevvy\n",
      "correct=female, guess=male, name=Blair\n",
      "correct=female, guess=male, name=Cat\n",
      "correct=female, guess=male, name=Cher\n",
      "correct=female, guess=male, name=Cherin\n",
      "correct=female, guess=male, name=Christabel\n",
      "correct=female, guess=male, name=Christy\n",
      "correct=female, guess=male, name=Chrysler\n",
      "correct=female, guess=male, name=Chrystel\n",
      "correct=female, guess=male, name=Clem\n",
      "correct=female, guess=male, name=Clio\n",
      "correct=female, guess=male, name=Damaris\n",
      "correct=female, guess=male, name=Dew\n",
      "correct=female, guess=male, name=Dionis\n",
      "correct=female, guess=male, name=Dorris\n",
      "correct=female, guess=male, name=Dory\n",
      "correct=female, guess=male, name=Eden\n",
      "correct=female, guess=male, name=Erin\n",
      "correct=female, guess=male, name=Felicdad\n",
      "correct=female, guess=male, name=Flory\n",
      "correct=female, guess=male, name=Gates\n",
      "correct=female, guess=male, name=Gerry\n",
      "correct=female, guess=male, name=Gill\n",
      "correct=female, guess=male, name=Glennis\n",
      "correct=female, guess=male, name=Glynis\n",
      "correct=female, guess=male, name=Grethel\n",
      "correct=female, guess=male, name=Guenevere\n",
      "correct=female, guess=male, name=Hazel\n",
      "correct=female, guess=male, name=Hildegaard\n",
      "correct=female, guess=male, name=Ingeberg\n",
      "correct=female, guess=male, name=Joey\n",
      "correct=female, guess=male, name=Joscelin\n",
      "correct=female, guess=male, name=Jourdan\n",
      "correct=female, guess=male, name=Kipp\n",
      "correct=female, guess=male, name=Korry\n",
      "correct=female, guess=male, name=Kristen\n",
      "correct=female, guess=male, name=Leanor\n",
      "correct=female, guess=male, name=Loren\n",
      "correct=female, guess=male, name=Mariam\n",
      "correct=female, guess=male, name=Marlo\n",
      "correct=female, guess=male, name=Marry\n",
      "correct=female, guess=male, name=Marybeth\n",
      "correct=female, guess=male, name=Melicent\n",
      "correct=female, guess=male, name=Mellisent\n",
      "correct=female, guess=male, name=Miriam\n",
      "correct=female, guess=male, name=Moll\n",
      "correct=female, guess=male, name=Myriam\n",
      "correct=female, guess=male, name=Nanon\n",
      "correct=female, guess=male, name=Ninon\n",
      "correct=female, guess=male, name=Noreen\n",
      "correct=female, guess=male, name=Reiko\n",
      "correct=female, guess=male, name=Rhiamon\n",
      "correct=female, guess=male, name=Rhianon\n",
      "correct=female, guess=male, name=Rosamond\n",
      "correct=female, guess=male, name=Rosamund\n",
      "correct=female, guess=male, name=Roslyn\n",
      "correct=female, guess=male, name=Roze\n",
      "correct=female, guess=male, name=Rubie\n",
      "correct=female, guess=male, name=Scarlet\n",
      "correct=female, guess=male, name=Sharl\n",
      "correct=female, guess=male, name=Sher\n",
      "correct=female, guess=male, name=Sheril\n",
      "correct=female, guess=male, name=Shir\n",
      "correct=female, guess=male, name=Shirah\n",
      "correct=female, guess=male, name=Sibel\n",
      "correct=female, guess=male, name=Sidoney\n",
      "correct=female, guess=male, name=Sigrid\n",
      "correct=female, guess=male, name=Sinead\n",
      "correct=female, guess=male, name=Sofie\n",
      "correct=female, guess=male, name=Stephie\n",
      "correct=female, guess=male, name=Sydel\n",
      "correct=female, guess=male, name=Tamar\n",
      "correct=female, guess=male, name=Terry\n",
      "correct=female, guess=male, name=Tobey\n",
      "correct=female, guess=male, name=Torey\n",
      "correct=female, guess=male, name=Tove\n",
      "correct=female, guess=male, name=Trish\n",
      "correct=female, guess=male, name=Trude\n",
      "correct=female, guess=male, name=Trudie\n",
      "correct=female, guess=male, name=Virginie\n",
      "correct=female, guess=male, name=Wendie\n",
      "correct=female, guess=male, name=Winifred\n",
      "correct=female, guess=male, name=Winne\n",
      "correct=male, guess=female, name=Ace\n",
      "correct=male, guess=female, name=Addie\n",
      "correct=male, guess=female, name=Alaa\n",
      "correct=male, guess=female, name=Alix\n",
      "correct=male, guess=female, name=Ambrose\n",
      "correct=male, guess=female, name=Amery\n",
      "correct=male, guess=female, name=Anatole\n",
      "correct=male, guess=female, name=Andie\n",
      "correct=male, guess=female, name=Andri\n",
      "correct=male, guess=female, name=Antonin\n",
      "correct=male, guess=female, name=Augie\n",
      "correct=male, guess=female, name=Ave\n",
      "correct=male, guess=female, name=Axel\n",
      "correct=male, guess=female, name=Barclay\n",
      "correct=male, guess=female, name=Bartie\n",
      "correct=male, guess=female, name=Beale\n",
      "correct=male, guess=female, name=Benny\n",
      "correct=male, guess=female, name=Bertie\n",
      "correct=male, guess=female, name=Bradley\n",
      "correct=male, guess=female, name=Bubba\n",
      "correct=male, guess=female, name=Calvin\n",
      "correct=male, guess=female, name=Carl\n",
      "correct=male, guess=female, name=Charley\n",
      "correct=male, guess=female, name=Chrisy\n",
      "correct=male, guess=female, name=Clarance\n",
      "correct=male, guess=female, name=Clarke\n",
      "correct=male, guess=female, name=Claude\n",
      "correct=male, guess=female, name=Clive\n",
      "correct=male, guess=female, name=Connie\n",
      "correct=male, guess=female, name=Dana\n",
      "correct=male, guess=female, name=Demetre\n",
      "correct=male, guess=female, name=Duane\n",
      "correct=male, guess=female, name=Dwayne\n",
      "correct=male, guess=female, name=Enrique\n",
      "correct=male, guess=female, name=Erny\n",
      "correct=male, guess=female, name=Evelyn\n",
      "correct=male, guess=female, name=Frankie\n",
      "correct=male, guess=female, name=Franklin\n",
      "correct=male, guess=female, name=Gere\n",
      "correct=male, guess=female, name=Geri\n",
      "correct=male, guess=female, name=Giovanni\n",
      "correct=male, guess=female, name=Iain\n",
      "correct=male, guess=female, name=Iggy\n",
      "correct=male, guess=female, name=Ignace\n",
      "correct=male, guess=female, name=Jaime\n",
      "correct=male, guess=female, name=Jamey\n",
      "correct=male, guess=female, name=Jerri\n",
      "correct=male, guess=female, name=Jerrie\n",
      "correct=male, guess=female, name=Jimmie\n",
      "correct=male, guess=female, name=Jodi\n",
      "correct=male, guess=female, name=Johann\n",
      "correct=male, guess=female, name=Kalle\n",
      "correct=male, guess=female, name=Kelvin\n",
      "correct=male, guess=female, name=Kenn\n",
      "correct=male, guess=female, name=Laurance\n",
      "correct=male, guess=female, name=Lay\n",
      "correct=male, guess=female, name=Leslie\n",
      "correct=male, guess=female, name=Levi\n",
      "correct=male, guess=female, name=Lorrie\n",
      "correct=male, guess=female, name=Lucian\n",
      "correct=male, guess=female, name=Lynn\n",
      "correct=male, guess=female, name=Maddy\n",
      "correct=male, guess=female, name=Marilu\n",
      "correct=male, guess=female, name=Marshall\n",
      "correct=male, guess=female, name=Maurie\n",
      "correct=male, guess=female, name=Maxie\n",
      "correct=male, guess=female, name=Maximilien\n",
      "correct=male, guess=female, name=Mendel\n",
      "correct=male, guess=female, name=Micah\n",
      "correct=male, guess=female, name=Michale\n",
      "correct=male, guess=female, name=Micheil\n",
      "correct=male, guess=female, name=Mischa\n",
      "correct=male, guess=female, name=Morrie\n",
      "correct=male, guess=female, name=Mustafa\n",
      "correct=male, guess=female, name=Neale\n",
      "correct=male, guess=female, name=Neddy\n",
      "correct=male, guess=female, name=Nichole\n",
      "correct=male, guess=female, name=Nickey\n",
      "correct=male, guess=female, name=Paige\n",
      "correct=male, guess=female, name=Partha\n",
      "correct=male, guess=female, name=Pate\n",
      "correct=male, guess=female, name=Penny\n",
      "correct=male, guess=female, name=Prentice\n",
      "correct=male, guess=female, name=Randal\n",
      "correct=male, guess=female, name=Rene\n",
      "correct=male, guess=female, name=Ritchie\n",
      "correct=male, guess=female, name=Salman\n",
      "correct=male, guess=female, name=Sandy\n",
      "correct=male, guess=female, name=Scotti\n",
      "correct=male, guess=female, name=Scottie\n",
      "correct=male, guess=female, name=Sidney\n",
      "correct=male, guess=female, name=Silvain\n",
      "correct=male, guess=female, name=Sinclare\n",
      "correct=male, guess=female, name=Sonnie\n",
      "correct=male, guess=female, name=Stearne\n",
      "correct=male, guess=female, name=Stillman\n",
      "correct=male, guess=female, name=Sydney\n",
      "correct=male, guess=female, name=Tabby\n",
      "correct=male, guess=female, name=Tallie\n",
      "correct=male, guess=female, name=Tally\n",
      "correct=male, guess=female, name=Tanney\n",
      "correct=male, guess=female, name=Tate\n",
      "correct=male, guess=female, name=Tedie\n",
      "correct=male, guess=female, name=Terence\n",
      "correct=male, guess=female, name=Terri\n",
      "correct=male, guess=female, name=Valentine\n",
      "correct=male, guess=female, name=Vassili\n",
      "correct=male, guess=female, name=Virgie\n",
      "correct=male, guess=female, name=Vite\n",
      "correct=male, guess=female, name=Yardley\n",
      "correct=male, guess=female, name=Zachariah\n"
     ]
    },
    {
     "data": {
      "image/png": "[encoded data removed]",
      "text/plain": [
       "<matplotlib.figure.Figure at 0x7fc5ac9f8fd0>"
      ]
     },
     "metadata": {},
     "output_type": "display_data"
    }
   ],
   "source": [
    "naive_bayes_gender_classifier()\n",
    "error_analysis()"
   ]
  },
  {
   "cell_type": "markdown",
   "metadata": {},
   "source": [
    "U analizi grešaka vidimo da je model više griješio kod imena muškog roda, pretpostavljajući da su ženska (1.0)"
   ]
  },
  {
   "cell_type": "markdown",
   "metadata": {
    "collapsed": true
   },
   "source": [
    "### Klasifikacija dokumenata\n",
    "Za primjer klasifikacije dokumenata uzet ćemo filmske recenzije, koje ćemo pokušati klasificirati kao pozitivne ili negativne. Značajke koje ćemo koristiti u našem modelu, će biti 2000 najčešćih riječi koje se pojavljuju u danim filmskim recenzijama."
   ]
  },
  {
   "cell_type": "code",
   "execution_count": 9,
   "metadata": {
    "collapsed": false
   },
   "outputs": [],
   "source": [
    "def _document_features(document, word_features):\n",
    "  document_words = set(document)\n",
    "  features = {}\n",
    "  for word in word_features:\n",
    "    features['contains({})'.format(word)] = (word in document_words)\n",
    "  return features\n",
    "  \n",
    "def document_classification_movie_reviews():\n",
    "  from nltk.corpus import movie_reviews\n",
    "  documents = [(list(movie_reviews.words(fileid)), category)\n",
    "                for category in movie_reviews.categories()\n",
    "                for fileid in movie_reviews.fileids(category)]\n",
    "  random.shuffle(documents)\n",
    "  # use the most frequent 2000 words as features\n",
    "  all_words = nltk.FreqDist(w.lower() for w in movie_reviews.words())\n",
    "  word_features = list(all_words.keys())[:2000]\n",
    "  featuresets = [(_document_features(d, word_features), category)\n",
    "                 for (d,category) in documents]\n",
    "  train_set, test_set = featuresets[100:], featuresets[:100]\n",
    "  classifier = nltk.NaiveBayesClassifier.train(train_set)\n",
    "  print (nltk.classify.accuracy(classifier, test_set))\n",
    "  classifier.show_most_informative_features(5)\n"
   ]
  },
  {
   "cell_type": "code",
   "execution_count": 10,
   "metadata": {
    "collapsed": false
   },
   "outputs": [
    {
     "name": "stdout",
     "output_type": "stream",
     "text": [
      "0.7\n",
      "Most Informative Features\n",
      "       contains(studies) = True              pos : neg    =      8.3 : 1.0\n",
      "       contains(layered) = True              pos : neg    =      7.7 : 1.0\n",
      "        contains(finest) = True              pos : neg    =      7.3 : 1.0\n",
      "     contains(marvelous) = True              pos : neg    =      7.0 : 1.0\n",
      "         contains(anger) = True              pos : neg    =      6.4 : 1.0\n"
     ]
    }
   ],
   "source": [
    "document_classification_movie_reviews()"
   ]
  },
  {
   "cell_type": "markdown",
   "metadata": {},
   "source": [
    "U našem modelu smo postigli točnost od oko 70%, te smo od naših 2000 značajki, izvukli 5 najinformativnijih."
   ]
  },
  {
   "cell_type": "markdown",
   "metadata": {
    "collapsed": false
   },
   "source": [
    "### Označavanje dijela riječi (Part of speech tagging)"
   ]
  },
  {
   "cell_type": "code",
   "execution_count": 11,
   "metadata": {
    "collapsed": true
   },
   "outputs": [],
   "source": [
    "def _pos_features(word, common_suffixes):\n",
    "  features = {}\n",
    "  for suffix in common_suffixes:\n",
    "    features['endswith({})'.format(suffix)] = word.lower().endswith(suffix)\n",
    "  return features\n",
    "\n",
    "def pos_tagging_classification():\n",
    "  # find most common suffixes of words\n",
    "  from nltk.corpus import brown\n",
    "  suffix_fdist = nltk.FreqDist()\n",
    "  for word in brown.words():\n",
    "    word = word.lower()\n",
    "    suffix_fdist[word[-1:]] += 1\n",
    "    suffix_fdist[word[-2:]] += 1\n",
    "    suffix_fdist[word[-3:]] += 1\n",
    "  common_suffixes = list(suffix_fdist.keys())[:100]\n",
    "  tagged_words = brown.tagged_words(categories=\"news\")\n",
    "  featuresets = [(_pos_features(w, common_suffixes), pos) for (w, pos) in tagged_words]\n",
    "  size = int(len(featuresets) * 0.1)\n",
    "  train_set, test_set = featuresets[size:], featuresets[:size]\n",
    "  classifier = nltk.DecisionTreeClassifier.train(train_set)\n",
    "  print (nltk.classify.accuracy(classifier, test_set))\n",
    "  print (classifier.pseudocode(depth=4))"
   ]
  },
  {
   "cell_type": "code",
   "execution_count": 12,
   "metadata": {
    "collapsed": false
   },
   "outputs": [
    {
     "name": "stdout",
     "output_type": "stream",
     "text": [
      "0.15345599204375932\n",
      "if endswith(0) == False: \n",
      "  if endswith(wo) == False: \n",
      "    if endswith(lso) == False: \n",
      "      if endswith(we) == False: return '.'\n",
      "      if endswith(we) == True: return 'PPSS'\n",
      "    if endswith(lso) == True: return 'RB'\n",
      "  if endswith(wo) == True: return 'CD'\n",
      "if endswith(0) == True: return 'CD'\n",
      "\n"
     ]
    }
   ],
   "source": [
    "pos_tagging_classification()"
   ]
  },
  {
   "cell_type": "markdown",
   "metadata": {},
   "source": [
    "### Iskorištavanje konteksta"
   ]
  },
  {
   "cell_type": "code",
   "execution_count": 13,
   "metadata": {
    "collapsed": true
   },
   "outputs": [],
   "source": [
    "def _pos_features2(sentence, i):\n",
    "  features = {\n",
    "    \"suffix(1)\" : sentence[i][-1:],\n",
    "    \"suffix(2)\" : sentence[i][-2:],\n",
    "    \"suffix(3)\" : sentence[i][-3:]}\n",
    "  if i == 0:\n",
    "    features[\"prev-word\"] = \"<START>\"\n",
    "  else:\n",
    "    features[\"prev-word\"] = sentence[i - 1]\n",
    "  return features\n",
    "\n",
    "def pos_tagging_classification_with_sentence_context():\n",
    "  from nltk.corpus import brown\n",
    "  tagged_sents = brown.tagged_sents(categories=\"news\")\n",
    "  featuresets = []\n",
    "  for tagged_sent in tagged_sents:\n",
    "    untagged_sent = nltk.tag.untag(tagged_sent)\n",
    "    for i, (word, tag) in enumerate(tagged_sent):\n",
    "      featuresets.append((_pos_features2(untagged_sent, i), tag))\n",
    "  size = int(len(featuresets) * 0.1)\n",
    "  train_set, test_set = featuresets[size:], featuresets[:size]\n",
    "  classifier = nltk.NaiveBayesClassifier.train(train_set)\n",
    "  print (nltk.classify.accuracy(classifier, test_set))"
   ]
  },
  {
   "cell_type": "code",
   "execution_count": 14,
   "metadata": {
    "collapsed": false
   },
   "outputs": [
    {
     "name": "stdout",
     "output_type": "stream",
     "text": [
      "0.7891596220785678\n"
     ]
    }
   ],
   "source": [
    "pos_tagging_classification_with_sentence_context()"
   ]
  },
  {
   "cell_type": "code",
   "execution_count": null,
   "metadata": {
    "collapsed": true
   },
   "outputs": [],
   "source": []
  }
 ],
 "metadata": {
  "kernelspec": {
   "display_name": "Python 3",
   "language": "python",
   "name": "python3"
  },
  "language_info": {
   "codemirror_mode": {
    "name": "ipython",
    "version": 3
   },
   "file_extension": ".py",
   "mimetype": "text/x-python",
   "name": "python",
   "nbconvert_exporter": "python",
   "pygments_lexer": "ipython3",
   "version": "3.3.5"
  }
 },
 "nbformat": 4,
 "nbformat_minor": 0
}
